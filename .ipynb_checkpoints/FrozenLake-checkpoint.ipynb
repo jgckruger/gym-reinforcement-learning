{
 "cells": [
  {
   "cell_type": "code",
   "execution_count": 1,
   "metadata": {},
   "outputs": [],
   "source": [
    "import random\n",
    "import time\n",
    "import numpy as np\n",
    "import gym\n",
    "import tensorflow as tf\n",
    "from collections import deque\n",
    "from IPython.display import clear_output"
   ]
  },
  {
   "cell_type": "code",
   "execution_count": 2,
   "metadata": {},
   "outputs": [],
   "source": [
    "from gym.envs.registration import registry, register\n",
    "\n",
    "try:\n",
    "    register(\n",
    "        id='FrozenLakeNoSlip-v0',\n",
    "        entry_point='gym.envs.toy_text:FrozenLakeEnv',\n",
    "        kwargs={'map_name' : '4x4', 'is_slippery': False},\n",
    "        max_episode_steps=100,\n",
    "        reward_threshold=0.78, # optimum = .8196\n",
    "    )\n",
    "except:\n",
    "    pass"
   ]
  },
  {
   "cell_type": "code",
   "execution_count": 3,
   "metadata": {},
   "outputs": [],
   "source": [
    "class GeneralRandomAgent():\n",
    "    def __init__(self, env):\n",
    "        self.is_discrete = type(env.action_space) == gym.spaces.discrete.Discrete\n",
    "        \n",
    "        if self.is_discrete:\n",
    "            self.action_size = env.action_space.n\n",
    "            print('Action space size: ', self.action_size)\n",
    "        else: \n",
    "            self.action_low = env.action_space.low\n",
    "            self.action_high = env.action_space.high\n",
    "            self.action_shape = env.action_space.shape\n",
    "            print('Action range: ', self.action_low, self.action_high)\n",
    "    \n",
    "    def get_action(self, state):\n",
    "        if self.is_discrete:\n",
    "            action = random.choice(range(self.action_size))\n",
    "        else:\n",
    "            action = np.random.uniform(self.action_low, self.action_high, self.action_shape)\n",
    "        return action"
   ]
  },
  {
   "cell_type": "code",
   "execution_count": 4,
   "metadata": {},
   "outputs": [],
   "source": [
    "class QAgent(GeneralRandomAgent):\n",
    "    def __init__(self, env, discount_rate = 0.97, learning_rate = 0.05, epsilon = 1.0):\n",
    "        super().__init__(env)\n",
    "        \n",
    "        self.epsilon = epsilon\n",
    "        self.discount_rate = discount_rate\n",
    "        self.learning_rate = learning_rate\n",
    "        \n",
    "        self.state_size = env.observation_space.n\n",
    "        print('State size: ', self.state_size)\n",
    "        self.build_model()\n",
    "    \n",
    "    def build_model(self):\n",
    "        self.q_table = 1e-4*np.random.random([self.state_size, self.action_size])\n",
    "        #self.q_table = np.zeros([self.state_size, self.action_size])\n",
    "        print(self.q_table)\n",
    "        \n",
    "    def get_action(self, state):\n",
    "        q_state = self.q_table[state]\n",
    "        policy_action = np.argmax(q_state)\n",
    "        random_action = super().get_action(state)\n",
    "        \n",
    "        action = policy_action if random.random() > self.epsilon else random_action\n",
    "        #print(q_state)\n",
    "        #print(self.q_table)\n",
    "        return action\n",
    "    \n",
    "    def train(self, experience):\n",
    "        state, action, next_state, reward, done = experience\n",
    "        \n",
    "        q_next = self.q_table[next_state] if not(done) else np.zeros([self.action_size]) # checks if state is terminal\n",
    "        q_target = reward + self.discount_rate*np.max(q_next)\n",
    "        \n",
    "        q_update = q_target - self.q_table[state, action]\n",
    "        self.q_table[state, action] += self.learning_rate*q_update\n",
    "        \n",
    "        if done:\n",
    "            self.epsilon *= 0.99 # Exponential decay"
   ]
  },
  {
   "cell_type": "code",
   "execution_count": 5,
   "metadata": {},
   "outputs": [],
   "source": [
    "class QNAgent(GeneralRandomAgent):\n",
    "    def __init__(self, env, discount_rate = 0.97, learning_rate = 0.01, epsilon = 1.0):\n",
    "        super().__init__(env)\n",
    "        \n",
    "        self.epsilon = epsilon\n",
    "        self.discount_rate = discount_rate\n",
    "        self.learning_rate = learning_rate\n",
    "        \n",
    "        self.state_size = env.observation_space.n\n",
    "        print('State size: ', self.state_size)\n",
    "        self.build_model()\n",
    "        \n",
    "        self.sess = tf.compat.v1.Session()\n",
    "        self.sess.run(tf.compat.v1.global_variables_initializer())\n",
    "        \n",
    "    def __del__(self):\n",
    "        self.sess.close()\n",
    "    \n",
    "    def build_model(self):\n",
    "        tf.compat.v1.reset_default_graph()\n",
    "        tf.compat.v1.disable_eager_execution()\n",
    "        self.state_in = tf.compat.v1.placeholder(tf.int32, shape=[1])\n",
    "        self.action_in = tf.compat.v1.placeholder(tf.int32, shape=[1])\n",
    "        self.target_in = tf.compat.v1.placeholder(tf.float32, shape=[1])\n",
    "        \n",
    "        self.state = tf.one_hot(self.state_in, depth=self.state_size)\n",
    "        self.action = tf.one_hot(self.action_in, depth=self.action_size)\n",
    "        \n",
    "        self.q_state = tf.compat.v1.layers.dense(self.state, units=self.action_size, name='q_table')\n",
    "        self.q_action = tf.reduce_sum(tf.multiply(self.q_state, self.action), axis=1)\n",
    "        \n",
    "        self.loss = tf.reduce_sum(tf.square(self.target_in - self.q_action))\n",
    "        self.optimizer = tf.compat.v1.train.AdamOptimizer(self.learning_rate).minimize(self.loss)\n",
    "        \n",
    "    def get_action(self, state):\n",
    "        q_state = self.sess.run(self.q_state, feed_dict = {self.state_in: [state]})\n",
    "        policy_action = np.argmax(q_state)\n",
    "        random_action = super().get_action(state)\n",
    "        action = policy_action if random.random() > self.epsilon else random_action\n",
    "        return action\n",
    "    \n",
    "    def train(self, experience):\n",
    "        state, action, next_state, reward, done = ([exp] for exp in experience)\n",
    "        \n",
    "        q_next = self.sess.run(self.q_state, feed_dict = {self.state_in: next_state})\n",
    "        q_next[done] = np.zeros([self.action_size])\n",
    "        q_target = reward + self.discount_rate*np.max(q_next)\n",
    "        \n",
    "        feed = {self.state_in: state, self.action_in: action, self.target_in: q_target}\n",
    "        self.sess.run(self.optimizer, feed_dict = feed)\n",
    "        \n",
    "        if experience[4]: # done is at index 4 of the experience\n",
    "            self.epsilon *= 0.99\n"
   ]
  },
  {
   "cell_type": "code",
   "execution_count": 6,
   "metadata": {},
   "outputs": [],
   "source": [
    "\n",
    "class QNExperienceReplayAgent(GeneralRandomAgent):\n",
    "    def __init__(self, env, discount_rate = 0.97, learning_rate = 0.001, epsilon = 1.0):\n",
    "        super().__init__(env)\n",
    "        \n",
    "        self.epsilon = epsilon\n",
    "        self.discount_rate = discount_rate\n",
    "        self.learning_rate = learning_rate\n",
    "        \n",
    "        self.state_size = env.observation_space.n\n",
    "        print('State size: ', self.state_size)\n",
    "        self.build_model()\n",
    "        \n",
    "        self.sess = tf.compat.v1.Session()\n",
    "        self.sess.run(tf.compat.v1.global_variables_initializer())\n",
    "        self.replay_buffer = deque(maxlen=1000)\n",
    "        \n",
    "    def __del__(self):\n",
    "        self.sess.close()\n",
    "    \n",
    "    def build_model(self):\n",
    "        tf.compat.v1.reset_default_graph()\n",
    "        tf.compat.v1.disable_eager_execution()\n",
    "        self.state_in = tf.compat.v1.placeholder(tf.int32, shape=[None])\n",
    "        self.action_in = tf.compat.v1.placeholder(tf.int32, shape=[None])\n",
    "        self.target_in = tf.compat.v1.placeholder(tf.float32, shape=[None])\n",
    "        \n",
    "        self.state = tf.one_hot(self.state_in, depth=self.state_size)\n",
    "        self.action = tf.one_hot(self.action_in, depth=self.action_size)\n",
    "        \n",
    "        self.q_state = tf.compat.v1.layers.dense(self.state, units=self.action_size, name='q_table')\n",
    "        self.q_action = tf.reduce_sum(tf.multiply(self.q_state, self.action), axis=1)\n",
    "        \n",
    "        self.loss = tf.reduce_sum(tf.square(self.target_in - self.q_action))\n",
    "        self.optimizer = tf.compat.v1.train.AdamOptimizer(self.learning_rate).minimize(self.loss)\n",
    "        \n",
    "    def get_action(self, state):\n",
    "        q_state = self.sess.run(self.q_state, feed_dict = {self.state_in: [state]})\n",
    "        policy_action = np.argmax(q_state)\n",
    "        random_action = super().get_action(state)\n",
    "        action = policy_action if random.random() > self.epsilon else random_action\n",
    "        return action\n",
    "    \n",
    "    def train(self, experience, batch_size=50):\n",
    "        self.replay_buffer.append(experience)\n",
    "        samples = random.choices(self.replay_buffer, k=batch_size)\n",
    "        state, action, next_state, reward, done = (list(col) for col in zip(experience, *samples))\n",
    "#         state, action, next_state, reward, done = ([exp] for exp in experience)\n",
    "        \n",
    "        q_next = self.sess.run(self.q_state, feed_dict = {self.state_in: next_state})\n",
    "        q_next[done] = np.zeros([self.action_size])\n",
    "        q_target = reward + self.discount_rate*np.max(q_next, axis=1)\n",
    "        \n",
    "        feed = {self.state_in: state, self.action_in: action, self.target_in: q_target}\n",
    "        self.sess.run(self.optimizer, feed_dict = feed)\n",
    "        \n",
    "        if experience[4]: # done is at index 4 of the experience\n",
    "            self.epsilon *= 0.99"
   ]
  },
  {
   "cell_type": "code",
   "execution_count": 7,
   "metadata": {},
   "outputs": [
    {
     "name": "stdout",
     "output_type": "stream",
     "text": [
      "Observation space:  Discrete(16)\n",
      "Action space:  Discrete(4)\n"
     ]
    }
   ],
   "source": [
    "# http://gym.openai.com/envs/CartPole-v1/\n",
    "env = gym.make('FrozenLakeNoSlip-v0')\n",
    "env = gym.make('FrozenLake-v0')\n",
    "print('Observation space: ', env.observation_space)\n",
    "print('Action space: ', env.action_space)"
   ]
  },
  {
   "cell_type": "code",
   "execution_count": 8,
   "metadata": {},
   "outputs": [
    {
     "name": "stdout",
     "output_type": "stream",
     "text": [
      "Episode finished after 13 timesteps\n"
     ]
    }
   ],
   "source": [
    "# Random agent\n",
    "number_of_episodes = 1\n",
    "number_of_steps = 200\n",
    "state = env.reset()\n",
    "agent = GeneralRandomAgent(env)\n",
    "for episode in range(number_of_episodes):\n",
    "    state = env.reset()\n",
    "    for t in range(number_of_steps):\n",
    "        action = agent.get_action(state)\n",
    "        state, reward, done, info = env.step(action)\n",
    "        print('state: ', state, 'action: ', action)\n",
    "        env.render()\n",
    "        time.sleep(0.05)\n",
    "        clear_output(wait=True)\n",
    "        if done:\n",
    "            print(\"Episode finished after {} timesteps\".format(t+1))\n",
    "            break\n",
    "env.close()"
   ]
  },
  {
   "cell_type": "code",
   "execution_count": 9,
   "metadata": {},
   "outputs": [
    {
     "name": "stdout",
     "output_type": "stream",
     "text": [
      "Action space size:  4\n",
      "State size:  16\n",
      "[[8.52031783e-05 4.04003146e-05 1.62513941e-05 4.67634648e-05]\n",
      " [6.24834357e-05 3.48961037e-05 7.65619419e-06 6.70175986e-05]\n",
      " [7.13002283e-05 9.73329650e-05 3.41126782e-05 5.72855621e-05]\n",
      " [8.49058995e-05 6.66800762e-05 3.55445526e-05 8.96287442e-05]\n",
      " [4.13613649e-05 3.73168962e-05 6.45307524e-05 8.27441677e-05]\n",
      " [5.89259235e-06 4.28746706e-05 1.86141501e-05 9.91424535e-05]\n",
      " [7.18325905e-05 3.65172434e-05 1.11177817e-05 8.19409923e-05]\n",
      " [6.13798518e-05 7.88240154e-05 2.07678242e-06 6.78809995e-05]\n",
      " [9.61886538e-05 3.92107337e-06 4.04109845e-05 3.69788425e-05]\n",
      " [8.28349969e-05 7.96075889e-05 1.92481893e-05 1.62620270e-07]\n",
      " [1.22495295e-05 1.87755264e-05 6.34672954e-05 2.87457019e-05]\n",
      " [8.68717981e-05 4.44431857e-05 3.56530692e-06 4.19831817e-05]\n",
      " [6.21860525e-05 8.59431660e-06 9.18272274e-05 8.82287819e-05]\n",
      " [7.33702057e-05 7.82821917e-05 4.88438024e-05 5.37394641e-05]\n",
      " [7.42634132e-05 2.20169385e-06 4.24566738e-05 8.17093335e-05]\n",
      " [1.79803778e-05 4.92588609e-06 1.03879953e-06 7.88684397e-05]]\n"
     ]
    }
   ],
   "source": [
    "# QAgent\n",
    "number_of_episodes = 500\n",
    "number_of_steps = 15\n",
    "total_reward = 0\n",
    "observation = env.reset()\n",
    "qagent = QAgent(env)"
   ]
  },
  {
   "cell_type": "code",
   "execution_count": 15,
   "metadata": {},
   "outputs": [
    {
     "name": "stdout",
     "output_type": "stream",
     "text": [
      "state:  11 action:  2\n",
      "Episode: 499, Step: 6, Total Reward: 57.0, Epsilon: 0.0028531095691707925\n",
      "  (Right)\n",
      "SFFF\n",
      "FHFH\n",
      "FFF\u001b[41mH\u001b[0m\n",
      "HFFG\n"
     ]
    }
   ],
   "source": [
    "for episode in range(number_of_episodes):\n",
    "    state = env.reset()\n",
    "    for step in range(number_of_steps):\n",
    "        action = qagent.get_action(state)\n",
    "        next_state, reward, done, info = env.step(action)\n",
    "        qagent.train((state, action, next_state, reward, done))\n",
    "        state = next_state\n",
    "        total_reward += reward\n",
    "        print('state: ', state, 'action: ', action)\n",
    "        print(\"Episode: {}, Step: {}, Total Reward: {}, Epsilon: {}\".format(episode, step, total_reward, qagent.epsilon))\n",
    "        time.sleep(0.01)\n",
    "        env.render()\n",
    "        if done:\n",
    "            #print(\"Episode finished after {} timesteps\".format(step+1))\n",
    "            break\n",
    "        \n",
    "        clear_output(wait=True)\n",
    "env.close()"
   ]
  },
  {
   "cell_type": "code",
   "execution_count": 11,
   "metadata": {
    "scrolled": true
   },
   "outputs": [
    {
     "name": "stdout",
     "output_type": "stream",
     "text": [
      "Action space size:  4\n",
      "State size:  16\n",
      "WARNING:tensorflow:From <ipython-input-5-6dc2a71ad5ab>:29: dense (from tensorflow.python.layers.core) is deprecated and will be removed in a future version.\n",
      "Instructions for updating:\n",
      "Use keras.layers.Dense instead.\n",
      "WARNING:tensorflow:From C:\\Users\\joao\\.conda\\envs\\jk_py37_gym\\lib\\site-packages\\tensorflow_core\\python\\layers\\core.py:187: Layer.apply (from tensorflow.python.keras.engine.base_layer) is deprecated and will be removed in a future version.\n",
      "Instructions for updating:\n",
      "Please use `layer.__call__` method instead.\n",
      "WARNING:tensorflow:From C:\\Users\\joao\\.conda\\envs\\jk_py37_gym\\lib\\site-packages\\tensorflow_core\\python\\ops\\resource_variable_ops.py:1635: calling BaseResourceVariable.__init__ (from tensorflow.python.ops.resource_variable_ops) with constraint is deprecated and will be removed in a future version.\n",
      "Instructions for updating:\n",
      "If using Keras pass *_constraint arguments to layers.\n"
     ]
    }
   ],
   "source": [
    "# QNAgent\n",
    "number_of_episodes = 500\n",
    "number_of_steps = 15\n",
    "total_reward = 0\n",
    "observation = env.reset()\n",
    "qnagent = QNAgent(env)"
   ]
  },
  {
   "cell_type": "code",
   "execution_count": 12,
   "metadata": {},
   "outputs": [
    {
     "name": "stdout",
     "output_type": "stream",
     "text": [
      "state:  4 action:  0\n",
      "Episode: 499, Step: 14, Total Reward: 19.0, Epsilon: 0.04758433047647449\n",
      "[[ 0.1165266   0.06946613  0.14192423 -0.17370005]\n",
      " [ 0.01617921 -0.03987114 -0.00797266 -0.19320562]\n",
      " [ 0.05848814 -0.04552825  0.06245172 -0.22826032]\n",
      " [-0.1060167  -0.14021339 -0.10871245 -0.15403204]\n",
      " [ 0.19001442  0.0217197   0.14077489 -0.11223559]\n",
      " [ 0.14217412  0.52027154  0.18515062  0.31784374]\n",
      " [-0.04663343  0.03964523  0.02694805 -0.29334894]\n",
      " [-0.43584025 -0.19452131 -0.43871474  0.48712683]\n",
      " [ 0.18359174 -0.03271065 -0.01928588  0.04506766]\n",
      " [ 0.05202064  0.3106228   0.13075025 -0.2250963 ]\n",
      " [ 0.18033391  0.0652004  -0.05814102 -0.2860504 ]\n",
      " [ 0.17683744 -0.00725192 -0.04753661 -0.2003015 ]\n",
      " [ 0.24951577 -0.11414146  0.1632188   0.03431988]\n",
      " [-0.05584126  0.17742342  0.49143094  0.03646352]\n",
      " [ 0.20404454  0.7697846   0.3460671  -0.06766621]\n",
      " [ 0.5047077  -0.1758818  -0.07844076 -0.49205545]]\n",
      "  (Left)\n",
      "SFFF\n",
      "\u001b[41mF\u001b[0mHFH\n",
      "FFFH\n",
      "HFFG\n"
     ]
    }
   ],
   "source": [
    "for episode in range(number_of_episodes):\n",
    "    state = env.reset()\n",
    "    for step in range(number_of_steps):\n",
    "        action = qnagent.get_action(state)\n",
    "        next_state, reward, done, info = env.step(action)\n",
    "        qnagent.train((state, action, next_state, reward, done))\n",
    "        state = next_state\n",
    "        total_reward += reward\n",
    "        \n",
    "        \n",
    "        with tf.compat.v1.variable_scope('q_table', reuse=True):\n",
    "            weights = qnagent.sess.run(tf.compat.v1.get_variable('kernel'))\n",
    "            clear_output(wait=True)\n",
    "            print('state: ', state, 'action: ', action)\n",
    "            print(\"Episode: {}, Step: {}, Total Reward: {}, Epsilon: {}\".format(episode, step, total_reward, qnagent.epsilon))\n",
    "            print(weights)\n",
    "        env.render()\n",
    "        if done:\n",
    "            #print(\"Episode finished after {} timesteps\".format(step+1))\n",
    "            break\n",
    "        \n",
    "        #time.sleep(0.05)\n",
    "env.close()"
   ]
  },
  {
   "cell_type": "code",
   "execution_count": 13,
   "metadata": {
    "scrolled": true
   },
   "outputs": [
    {
     "name": "stdout",
     "output_type": "stream",
     "text": [
      "Action space size:  4\n",
      "State size:  16\n"
     ]
    }
   ],
   "source": [
    "# QNExperienceReplayAgent\n",
    "number_of_episodes = 500\n",
    "number_of_steps = 15\n",
    "total_reward = 0\n",
    "observation = env.reset()\n",
    "qneragent = QNExperienceReplayAgent(env)"
   ]
  },
  {
   "cell_type": "code",
   "execution_count": 14,
   "metadata": {
    "scrolled": true
   },
   "outputs": [
    {
     "name": "stdout",
     "output_type": "stream",
     "text": [
      "state:  14 action:  2\n",
      "Episode: 499, Step: 14, Total Reward: 25.0, Epsilon: 0.0835397296732052\n",
      "[[-0.00531529  0.01306844 -0.00291092  0.07747389]\n",
      " [-0.07648093 -0.14665034 -0.16744182  0.0746096 ]\n",
      " [-0.06550104 -0.07793216  0.02711069  0.05727452]\n",
      " [-0.17472988 -0.22903581 -0.046034    0.03538208]\n",
      " [ 0.01942207  0.02628988  0.02246995  0.02805051]\n",
      " [-0.1158613  -0.30250338 -0.3896829  -0.43672696]\n",
      " [-0.1744681  -0.20901743  0.04858912 -0.10944855]\n",
      " [-0.4681601  -0.28647718  0.22151786  0.3469417 ]\n",
      " [ 0.00166311  0.05843698  0.01437457  0.15765597]\n",
      " [-0.15570353  0.21437898  0.11401512  0.1630933 ]\n",
      " [ 0.2518926  -0.12850088 -0.26514766 -0.01809256]\n",
      " [ 0.3655262   0.41264993 -0.29228467 -0.1266354 ]\n",
      " [ 0.06771696  0.28759098 -0.31337425 -0.18128303]\n",
      " [ 0.10479593  0.17632948  0.33746034  0.27126125]\n",
      " [ 0.27620307  0.23278955  0.5835002   0.30110642]\n",
      " [-0.447088    0.52529216  0.3574468   0.45807624]]\n",
      "  (Right)\n",
      "SFFF\n",
      "FHFH\n",
      "FFFH\n",
      "HF\u001b[41mF\u001b[0mG\n"
     ]
    }
   ],
   "source": [
    "for episode in range(number_of_episodes):\n",
    "    state = env.reset()\n",
    "    for step in range(number_of_steps):\n",
    "        action = qneragent.get_action(state)\n",
    "        next_state, reward, done, info = env.step(action)\n",
    "        qneragent.train((state, action, next_state, reward, done))\n",
    "        state = next_state\n",
    "        total_reward += reward\n",
    "        \n",
    "        with tf.compat.v1.variable_scope('q_table', reuse=True):\n",
    "            weights = qneragent.sess.run(tf.compat.v1.get_variable('kernel'))\n",
    "            clear_output(wait=True)\n",
    "            print('state: ', state, 'action: ', action)\n",
    "            print(\"Episode: {}, Step: {}, Total Reward: {}, Epsilon: {}\".format(episode, step, total_reward, qneragent.epsilon))\n",
    "            print(weights)\n",
    "        env.render()\n",
    "        if done:\n",
    "            #print(\"Episode finished after {} timesteps\".format(step+1))\n",
    "            break\n",
    "        \n",
    "        #time.sleep(0.05)\n",
    "env.close()"
   ]
  },
  {
   "cell_type": "code",
   "execution_count": null,
   "metadata": {},
   "outputs": [],
   "source": []
  }
 ],
 "metadata": {
  "kernelspec": {
   "display_name": "Python 3",
   "language": "python",
   "name": "python3"
  },
  "language_info": {
   "codemirror_mode": {
    "name": "ipython",
    "version": 3
   },
   "file_extension": ".py",
   "mimetype": "text/x-python",
   "name": "python",
   "nbconvert_exporter": "python",
   "pygments_lexer": "ipython3",
   "version": "3.7.9"
  }
 },
 "nbformat": 4,
 "nbformat_minor": 2
}
