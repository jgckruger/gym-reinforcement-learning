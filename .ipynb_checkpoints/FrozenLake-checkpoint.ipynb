{
 "cells": [
  {
   "cell_type": "code",
   "execution_count": 1,
   "metadata": {},
   "outputs": [],
   "source": [
    "import random\n",
    "import time\n",
    "import numpy as np\n",
    "import gym\n",
    "import tensorflow as tf\n",
    "from collections import deque\n",
    "from IPython.display import clear_output"
   ]
  },
  {
   "cell_type": "code",
   "execution_count": 2,
   "metadata": {},
   "outputs": [],
   "source": [
    "from gym.envs.registration import registry, register\n",
    "\n",
    "try:\n",
    "    register(\n",
    "        id='FrozenLakeNoSlip-v0',\n",
    "        entry_point='gym.envs.toy_text:FrozenLakeEnv',\n",
    "        kwargs={'map_name' : '4x4', 'is_slippery': False},\n",
    "        max_episode_steps=100,\n",
    "        reward_threshold=0.78, # optimum = .8196\n",
    "    )\n",
    "except:\n",
    "    pass"
   ]
  },
  {
   "cell_type": "code",
   "execution_count": 3,
   "metadata": {},
   "outputs": [],
   "source": [
    "class GeneralRandomAgent():\n",
    "    def __init__(self, env):\n",
    "        self.is_discrete = type(env.action_space) == gym.spaces.discrete.Discrete\n",
    "        \n",
    "        if self.is_discrete:\n",
    "            self.action_size = env.action_space.n\n",
    "            print('Action space size: ', self.action_size)\n",
    "        else: \n",
    "            self.action_low = env.action_space.low\n",
    "            self.action_high = env.action_space.high\n",
    "            self.action_shape = env.action_space.shape\n",
    "            print('Action range: ', self.action_low, self.action_high)\n",
    "    \n",
    "    def get_action(self, state):\n",
    "        if self.is_discrete:\n",
    "            action = random.choice(range(self.action_size))\n",
    "        else:\n",
    "            action = np.random.uniform(self.action_low, self.action_high, self.action_shape)\n",
    "        return action"
   ]
  },
  {
   "cell_type": "code",
   "execution_count": 4,
   "metadata": {},
   "outputs": [],
   "source": [
    "class QAgent(GeneralRandomAgent):\n",
    "    def __init__(self, env, discount_rate = 0.97, learning_rate = 0.05, epsilon = 1.0):\n",
    "        super().__init__(env)\n",
    "        \n",
    "        self.epsilon = epsilon\n",
    "        self.discount_rate = discount_rate\n",
    "        self.learning_rate = learning_rate\n",
    "        \n",
    "        self.state_size = env.observation_space.n\n",
    "        print('State size: ', self.state_size)\n",
    "        self.build_model()\n",
    "    \n",
    "    def build_model(self):\n",
    "        self.q_table = 1e-4*np.random.random([self.state_size, self.action_size])\n",
    "        #self.q_table = np.zeros([self.state_size, self.action_size])\n",
    "        print(self.q_table)\n",
    "        \n",
    "    def get_action(self, state):\n",
    "        q_state = self.q_table[state]\n",
    "        policy_action = np.argmax(q_state)\n",
    "        random_action = super().get_action(state)\n",
    "        \n",
    "        action = policy_action if random.random() > self.epsilon else random_action\n",
    "        #print(q_state)\n",
    "        #print(self.q_table)\n",
    "        return action\n",
    "    \n",
    "    def train(self, experience):\n",
    "        state, action, next_state, reward, done = experience\n",
    "        \n",
    "        q_next = self.q_table[next_state] if not(done) else np.zeros([self.action_size]) # checks if state is terminal\n",
    "        q_target = reward + self.discount_rate*np.max(q_next)\n",
    "        \n",
    "        q_update = q_target - self.q_table[state, action]\n",
    "        self.q_table[state, action] += self.learning_rate*q_update\n",
    "        \n",
    "        if done:\n",
    "            self.epsilon *= 0.99 # Exponential decay"
   ]
  },
  {
   "cell_type": "code",
   "execution_count": 5,
   "metadata": {},
   "outputs": [],
   "source": [
    "class QNAgent(GeneralRandomAgent):\n",
    "    def __init__(self, env, discount_rate = 0.97, learning_rate = 0.01, epsilon = 1.0):\n",
    "        super().__init__(env)\n",
    "        \n",
    "        self.epsilon = epsilon\n",
    "        self.discount_rate = discount_rate\n",
    "        self.learning_rate = learning_rate\n",
    "        \n",
    "        self.state_size = env.observation_space.n\n",
    "        print('State size: ', self.state_size)\n",
    "        self.build_model()\n",
    "        \n",
    "        self.sess = tf.compat.v1.Session()\n",
    "        self.sess.run(tf.compat.v1.global_variables_initializer())\n",
    "        \n",
    "    def __del__(self):\n",
    "        self.sess.close()\n",
    "    \n",
    "    def build_model(self):\n",
    "        tf.compat.v1.reset_default_graph()\n",
    "        tf.compat.v1.disable_eager_execution()\n",
    "        self.state_in = tf.compat.v1.placeholder(tf.int32, shape=[1])\n",
    "        self.action_in = tf.compat.v1.placeholder(tf.int32, shape=[1])\n",
    "        self.target_in = tf.compat.v1.placeholder(tf.float32, shape=[1])\n",
    "        \n",
    "        self.state = tf.one_hot(self.state_in, depth=self.state_size)\n",
    "        self.action = tf.one_hot(self.action_in, depth=self.action_size)\n",
    "        \n",
    "        self.q_state = tf.compat.v1.layers.dense(self.state, units=self.action_size, name='q_table')\n",
    "        self.q_action = tf.reduce_sum(tf.multiply(self.q_state, self.action), axis=1)\n",
    "        \n",
    "        self.loss = tf.reduce_sum(tf.square(self.target_in - self.q_action))\n",
    "        self.optimizer = tf.compat.v1.train.AdamOptimizer(self.learning_rate).minimize(self.loss)\n",
    "        \n",
    "    def get_action(self, state):\n",
    "        q_state = self.sess.run(self.q_state, feed_dict = {self.state_in: [state]})\n",
    "        policy_action = np.argmax(q_state)\n",
    "        random_action = super().get_action(state)\n",
    "        action = policy_action if random.random() > self.epsilon else random_action\n",
    "        return action\n",
    "    \n",
    "    def train(self, experience):\n",
    "        state, action, next_state, reward, done = ([exp] for exp in experience)\n",
    "        \n",
    "        q_next = self.sess.run(self.q_state, feed_dict = {self.state_in: next_state})\n",
    "        q_next[done] = np.zeros([self.action_size])\n",
    "        q_target = reward + self.discount_rate*np.max(q_next)\n",
    "        \n",
    "        feed = {self.state_in: state, self.action_in: action, self.target_in: q_target}\n",
    "        self.sess.run(self.optimizer, feed_dict = feed)\n",
    "        \n",
    "        if experience[4]: # done is at index 4 of the experience\n",
    "            self.epsilon *= 0.99\n"
   ]
  },
  {
   "cell_type": "code",
   "execution_count": 6,
   "metadata": {},
   "outputs": [],
   "source": [
    "\n",
    "class QNExperienceReplayAgent(GeneralRandomAgent):\n",
    "    def __init__(self, env, discount_rate = 0.97, learning_rate = 0.001, epsilon = 1.0):\n",
    "        super().__init__(env)\n",
    "        \n",
    "        self.epsilon = epsilon\n",
    "        self.discount_rate = discount_rate\n",
    "        self.learning_rate = learning_rate\n",
    "        \n",
    "        self.state_size = env.observation_space.n\n",
    "        print('State size: ', self.state_size)\n",
    "        self.build_model()\n",
    "        \n",
    "        self.sess = tf.compat.v1.Session()\n",
    "        self.sess.run(tf.compat.v1.global_variables_initializer())\n",
    "        self.replay_buffer = deque(maxlen=1000)\n",
    "        \n",
    "    def __del__(self):\n",
    "        self.sess.close()\n",
    "    \n",
    "    def build_model(self):\n",
    "        tf.compat.v1.reset_default_graph()\n",
    "        tf.compat.v1.disable_eager_execution()\n",
    "        self.state_in = tf.compat.v1.placeholder(tf.int32, shape=[None])\n",
    "        self.action_in = tf.compat.v1.placeholder(tf.int32, shape=[None])\n",
    "        self.target_in = tf.compat.v1.placeholder(tf.float32, shape=[None])\n",
    "        \n",
    "        self.state = tf.one_hot(self.state_in, depth=self.state_size)\n",
    "        self.action = tf.one_hot(self.action_in, depth=self.action_size)\n",
    "        \n",
    "        self.q_state = tf.compat.v1.layers.dense(self.state, units=self.action_size, name='q_table')\n",
    "        self.q_action = tf.reduce_sum(tf.multiply(self.q_state, self.action), axis=1)\n",
    "        \n",
    "        self.loss = tf.reduce_sum(tf.square(self.target_in - self.q_action))\n",
    "        self.optimizer = tf.compat.v1.train.AdamOptimizer(self.learning_rate).minimize(self.loss)\n",
    "        \n",
    "    def get_action(self, state):\n",
    "        q_state = self.sess.run(self.q_state, feed_dict = {self.state_in: [state]})\n",
    "        policy_action = np.argmax(q_state)\n",
    "        random_action = super().get_action(state)\n",
    "        action = policy_action if random.random() > self.epsilon else random_action\n",
    "        return action\n",
    "    \n",
    "    def train(self, experience, batch_size=50):\n",
    "        self.replay_buffer.append(experience)\n",
    "        samples = random.choices(self.replay_buffer, k=batch_size)\n",
    "        state, action, next_state, reward, done = (list(col) for col in zip(experience, *samples))\n",
    "#         state, action, next_state, reward, done = ([exp] for exp in experience)\n",
    "        \n",
    "        q_next = self.sess.run(self.q_state, feed_dict = {self.state_in: next_state})\n",
    "        q_next[done] = np.zeros([self.action_size])\n",
    "        q_target = reward + self.discount_rate*np.max(q_next, axis=1)\n",
    "        \n",
    "        feed = {self.state_in: state, self.action_in: action, self.target_in: q_target}\n",
    "        self.sess.run(self.optimizer, feed_dict = feed)\n",
    "        \n",
    "        if experience[4]: # done is at index 4 of the experience\n",
    "            self.epsilon *= 0.99"
   ]
  },
  {
   "cell_type": "code",
   "execution_count": 7,
   "metadata": {},
   "outputs": [
    {
     "name": "stdout",
     "output_type": "stream",
     "text": [
      "Observation space:  Discrete(16)\n",
      "Action space:  Discrete(4)\n"
     ]
    }
   ],
   "source": [
    "# http://gym.openai.com/envs/CartPole-v1/\n",
    "env = gym.make('FrozenLakeNoSlip-v0')\n",
    "#env = gym.make('FrozenLake-v0')\n",
    "print('Observation space: ', env.observation_space)\n",
    "print('Action space: ', env.action_space)"
   ]
  },
  {
   "cell_type": "code",
   "execution_count": 8,
   "metadata": {},
   "outputs": [
    {
     "name": "stdout",
     "output_type": "stream",
     "text": [
      "Episode finished after 4 timesteps\n"
     ]
    }
   ],
   "source": [
    "# Random agent\n",
    "number_of_episodes = 1\n",
    "number_of_steps = 200\n",
    "state = env.reset()\n",
    "agent = GeneralRandomAgent(env)\n",
    "for episode in range(number_of_episodes):\n",
    "    state = env.reset()\n",
    "    for t in range(number_of_steps):\n",
    "        action = agent.get_action(state)\n",
    "        state, reward, done, info = env.step(action)\n",
    "        print('state: ', state, 'action: ', action)\n",
    "        env.render()\n",
    "        time.sleep(0.5)\n",
    "        clear_output(wait=True)\n",
    "        if done:\n",
    "            print(\"Episode finished after {} timesteps\".format(t+1))\n",
    "            break\n",
    "env.close()"
   ]
  },
  {
   "cell_type": "code",
   "execution_count": 9,
   "metadata": {},
   "outputs": [
    {
     "name": "stdout",
     "output_type": "stream",
     "text": [
      "Action space size:  4\n",
      "State size:  16\n",
      "[[3.80767860e-05 8.48120021e-05 8.88274926e-05 1.44231660e-05]\n",
      " [2.18007381e-05 2.81960527e-05 5.29814187e-05 8.30885320e-05]\n",
      " [7.92400876e-05 3.91778205e-05 5.27979597e-05 5.25919940e-05]\n",
      " [1.88857636e-06 7.95557036e-05 5.22169807e-05 6.51422110e-05]\n",
      " [1.92941378e-05 3.35424430e-05 2.99086205e-05 7.55679299e-06]\n",
      " [4.94655693e-05 6.08995236e-05 4.79416054e-05 8.39894331e-05]\n",
      " [7.04345375e-05 8.22543873e-05 6.39729931e-05 8.43384446e-06]\n",
      " [9.12131106e-05 3.01368553e-05 4.26339953e-05 9.10282554e-05]\n",
      " [5.48595226e-05 3.58145893e-06 9.17796175e-05 7.74578432e-05]\n",
      " [4.57323630e-05 9.57635816e-05 3.13077221e-05 5.05074834e-05]\n",
      " [6.30439502e-05 1.75580043e-05 1.71392273e-05 5.20715881e-05]\n",
      " [4.42025477e-05 8.20495556e-05 7.03925908e-05 4.10983490e-06]\n",
      " [3.61483999e-06 4.73015748e-06 2.88123763e-05 1.83733536e-05]\n",
      " [3.24311542e-06 1.58570168e-05 4.39610720e-05 3.15871387e-05]\n",
      " [6.10736304e-05 1.99396361e-05 7.17621734e-06 7.95476412e-06]\n",
      " [5.48765939e-05 4.26917562e-05 5.05227675e-05 7.23890179e-05]]\n"
     ]
    }
   ],
   "source": [
    "# QAgent\n",
    "number_of_episodes = 500\n",
    "number_of_steps = 15\n",
    "total_reward = 0\n",
    "observation = env.reset()\n",
    "qagent = QAgent(env)"
   ]
  },
  {
   "cell_type": "code",
   "execution_count": 10,
   "metadata": {},
   "outputs": [
    {
     "name": "stdout",
     "output_type": "stream",
     "text": [
      "state:  15 action:  2\n",
      "[[1.52847179e-01 8.61400463e-03 8.58650182e-01 1.88153007e-01]\n",
      " [7.08592178e-02 3.27024083e-06 8.85271119e-01 1.38060371e-01]\n",
      " [4.66226141e-02 9.12668330e-01 1.96854751e-02 2.01271690e-01]\n",
      " [1.95891114e-01 5.27788792e-05 5.56611145e-05 6.36281271e-05]\n",
      " [5.27152002e-05 1.08656630e-02 1.18801323e-05 1.19665987e-01]\n",
      " [4.94655693e-05 6.08995236e-05 4.79416054e-05 8.39894331e-05]\n",
      " [4.21717594e-05 9.40899218e-01 3.11980281e-05 1.25613662e-01]\n",
      " [9.12131106e-05 3.01368553e-05 4.26339953e-05 9.10282554e-05]\n",
      " [6.11884629e-05 2.63270142e-06 8.14903934e-02 9.15475262e-05]\n",
      " [4.85398734e-04 1.29229178e-02 4.22081748e-01 4.33038536e-05]\n",
      " [8.07026606e-02 9.69999913e-01 1.02618885e-05 2.76987453e-01]\n",
      " [4.42025477e-05 8.20495556e-05 7.03925908e-05 4.10983490e-06]\n",
      " [3.61483999e-06 4.73015748e-06 2.88123763e-05 1.83733536e-05]\n",
      " [3.08095965e-06 4.33052110e-03 2.57071854e-01 1.38274666e-04]\n",
      " [2.92252272e-02 3.37718387e-01 9.99999995e-01 2.72748015e-01]\n",
      " [5.48765939e-05 4.26917562e-05 5.05227675e-05 7.23890179e-05]]\n",
      "Episode: 499, Step: 5, Total Reward: 374.0, Epsilon: 0.0075631824013888665\n",
      "  (Right)\n",
      "SFFF\n",
      "FHFH\n",
      "FFFH\n",
      "HFF\u001b[41mG\u001b[0m\n"
     ]
    }
   ],
   "source": [
    "for episode in range(number_of_episodes):\n",
    "    state = env.reset()\n",
    "    for step in range(number_of_steps):\n",
    "        action = qagent.get_action(state)\n",
    "        next_state, reward, done, info = env.step(action)\n",
    "        qagent.train((state, action, next_state, reward, done))\n",
    "        state = next_state\n",
    "        total_reward += reward\n",
    "        print('state: ', state, 'action: ', action)\n",
    "        print(qagent.q_table)\n",
    "        print(\"Episode: {}, Step: {}, Total Reward: {}, Epsilon: {}\".format(episode, step, total_reward, qagent.epsilon))\n",
    "        time.sleep(0.01)\n",
    "        env.render()\n",
    "        if done:\n",
    "            #print(\"Episode finished after {} timesteps\".format(step+1))\n",
    "            break\n",
    "        \n",
    "        clear_output(wait=True)\n",
    "env.close()"
   ]
  },
  {
   "cell_type": "code",
   "execution_count": 11,
   "metadata": {
    "scrolled": true
   },
   "outputs": [
    {
     "name": "stdout",
     "output_type": "stream",
     "text": [
      "Action space size:  4\n",
      "State size:  16\n",
      "WARNING:tensorflow:From <ipython-input-5-6dc2a71ad5ab>:29: dense (from tensorflow.python.layers.core) is deprecated and will be removed in a future version.\n",
      "Instructions for updating:\n",
      "Use keras.layers.Dense instead.\n",
      "WARNING:tensorflow:From C:\\Users\\joao\\.conda\\envs\\jk_py37_gym\\lib\\site-packages\\tensorflow_core\\python\\layers\\core.py:187: Layer.apply (from tensorflow.python.keras.engine.base_layer) is deprecated and will be removed in a future version.\n",
      "Instructions for updating:\n",
      "Please use `layer.__call__` method instead.\n",
      "WARNING:tensorflow:From C:\\Users\\joao\\.conda\\envs\\jk_py37_gym\\lib\\site-packages\\tensorflow_core\\python\\ops\\resource_variable_ops.py:1635: calling BaseResourceVariable.__init__ (from tensorflow.python.ops.resource_variable_ops) with constraint is deprecated and will be removed in a future version.\n",
      "Instructions for updating:\n",
      "If using Keras pass *_constraint arguments to layers.\n"
     ]
    }
   ],
   "source": [
    "# QNAgent\n",
    "number_of_episodes = 500\n",
    "number_of_steps = 15\n",
    "total_reward = 0\n",
    "observation = env.reset()\n",
    "qnagent = QNAgent(env)"
   ]
  },
  {
   "cell_type": "code",
   "execution_count": 12,
   "metadata": {},
   "outputs": [
    {
     "name": "stdout",
     "output_type": "stream",
     "text": [
      "state:  15 action:  2\n",
      "Episode: 499, Step: 5, Total Reward: 298.0, Epsilon: 0.010327936091511133\n",
      "[[ 0.07632102  0.17970124  0.01175249  0.00893372]\n",
      " [ 0.04334284 -0.7133101  -0.07980934  0.0093018 ]\n",
      " [ 0.10582779  0.00243173 -0.11538547  0.01017686]\n",
      " [ 0.07644816 -0.4263432  -0.10869314 -0.04261433]\n",
      " [ 0.12278821  0.23501751 -0.68490344  0.11678237]\n",
      " [-0.38648638  0.18289542 -0.14773777  0.38919908]\n",
      " [-0.3749835   0.03801651 -0.4780062   0.04116749]\n",
      " [ 0.4600129   0.08391863  0.48174596  0.32973498]\n",
      " [ 0.14467894 -0.6885422   0.25971818  0.18881004]\n",
      " [ 0.21829142  0.22419757  0.23214693 -0.68399894]\n",
      " [ 0.22886972  0.24281915 -0.44329125  0.06139692]\n",
      " [-0.35076216  0.34161556 -0.19978437  0.42577302]\n",
      " [-0.14341938 -0.46603203 -0.34229043 -0.19877377]\n",
      " [-0.6207238   0.21034077  0.3035936   0.22067715]\n",
      " [ 0.23644921  0.2640022   0.33495903  0.2618231 ]\n",
      " [-0.5012219   0.2703408   0.5410551   0.4204687 ]]\n",
      "  (Right)\n",
      "SFFF\n",
      "FHFH\n",
      "FFFH\n",
      "HFF\u001b[41mG\u001b[0m\n"
     ]
    }
   ],
   "source": [
    "for episode in range(number_of_episodes):\n",
    "    state = env.reset()\n",
    "    for step in range(number_of_steps):\n",
    "        action = qnagent.get_action(state)\n",
    "        next_state, reward, done, info = env.step(action)\n",
    "        qnagent.train((state, action, next_state, reward, done))\n",
    "        state = next_state\n",
    "        total_reward += reward\n",
    "        \n",
    "        \n",
    "        with tf.compat.v1.variable_scope('q_table', reuse=True):\n",
    "            weights = qnagent.sess.run(tf.compat.v1.get_variable('kernel'))\n",
    "            clear_output(wait=True)\n",
    "            print('state: ', state, 'action: ', action)\n",
    "            print(\"Episode: {}, Step: {}, Total Reward: {}, Epsilon: {}\".format(episode, step, total_reward, qnagent.epsilon))\n",
    "            print(weights)\n",
    "        env.render()\n",
    "        if done:\n",
    "            #print(\"Episode finished after {} timesteps\".format(step+1))\n",
    "            break\n",
    "        \n",
    "        #time.sleep(0.05)\n",
    "env.close()"
   ]
  },
  {
   "cell_type": "code",
   "execution_count": 13,
   "metadata": {
    "scrolled": true
   },
   "outputs": [
    {
     "name": "stdout",
     "output_type": "stream",
     "text": [
      "Action space size:  4\n",
      "State size:  16\n"
     ]
    }
   ],
   "source": [
    "# QNExperienceReplayAgent\n",
    "number_of_episodes = 500\n",
    "number_of_steps = 15\n",
    "total_reward = 0\n",
    "observation = env.reset()\n",
    "qneragent = QNExperienceReplayAgent(env)"
   ]
  },
  {
   "cell_type": "code",
   "execution_count": 14,
   "metadata": {
    "scrolled": true
   },
   "outputs": [
    {
     "name": "stdout",
     "output_type": "stream",
     "text": [
      "state:  15 action:  2\n",
      "Episode: 499, Step: 5, Total Reward: 183.0, Epsilon: 0.025517964452291122\n",
      "[[ 0.08939223  0.30631933  0.28621385  0.32313994]\n",
      " [ 0.09580315 -0.47827035  0.31279135  0.35013384]\n",
      " [ 0.11861119  0.37433052  0.28995806  0.37548012]\n",
      " [ 0.1432212  -0.21134509  0.28714278  0.26522642]\n",
      " [ 0.10608572  0.33678457 -0.50874966  0.32313508]\n",
      " [ 0.15293556  0.2891879  -0.3575045   0.48467863]\n",
      " [-0.7438443   0.40255308 -0.5723404   0.37545744]\n",
      " [ 0.28464335 -0.29901147  0.25744754  0.12317991]\n",
      " [ 0.15657745 -0.5220305   0.33948773  0.32331985]\n",
      " [-0.11438273  0.3494544   0.36844945 -0.24062574]\n",
      " [ 0.10693756  0.43168625 -0.4788931   0.40310675]\n",
      " [ 0.4856392   0.28456712  0.5380231   0.4463485 ]\n",
      " [ 0.19428432 -0.5198695   0.5333235   0.04380703]\n",
      " [-0.331699   -0.28733137 -0.29034948  0.40263277]\n",
      " [ 0.14095995  0.31973946  0.42770645  0.4311563 ]\n",
      " [-0.0565781   0.24739611  0.04011744  0.210989  ]]\n",
      "  (Right)\n",
      "SFFF\n",
      "FHFH\n",
      "FFFH\n",
      "HFF\u001b[41mG\u001b[0m\n"
     ]
    }
   ],
   "source": [
    "for episode in range(number_of_episodes):\n",
    "    state = env.reset()\n",
    "    for step in range(number_of_steps):\n",
    "        action = qneragent.get_action(state)\n",
    "        next_state, reward, done, info = env.step(action)\n",
    "        qneragent.train((state, action, next_state, reward, done))\n",
    "        state = next_state\n",
    "        total_reward += reward\n",
    "        \n",
    "        with tf.compat.v1.variable_scope('q_table', reuse=True):\n",
    "            weights = qneragent.sess.run(tf.compat.v1.get_variable('kernel'))\n",
    "            clear_output(wait=True)\n",
    "            print('state: ', state, 'action: ', action)\n",
    "            print(\"Episode: {}, Step: {}, Total Reward: {}, Epsilon: {}\".format(episode, step, total_reward, qneragent.epsilon))\n",
    "            print(weights)\n",
    "        env.render()\n",
    "        if done:\n",
    "            #print(\"Episode finished after {} timesteps\".format(step+1))\n",
    "            break\n",
    "        \n",
    "        #time.sleep(0.05)\n",
    "env.close()"
   ]
  }
 ],
 "metadata": {
  "kernelspec": {
   "display_name": "Python 3",
   "language": "python",
   "name": "python3"
  },
  "language_info": {
   "codemirror_mode": {
    "name": "ipython",
    "version": 3
   },
   "file_extension": ".py",
   "mimetype": "text/x-python",
   "name": "python",
   "nbconvert_exporter": "python",
   "pygments_lexer": "ipython3",
   "version": "3.7.9"
  }
 },
 "nbformat": 4,
 "nbformat_minor": 2
}
