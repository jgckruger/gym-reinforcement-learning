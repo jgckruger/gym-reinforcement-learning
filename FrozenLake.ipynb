{
 "cells": [
  {
   "cell_type": "code",
   "execution_count": 15,
   "metadata": {},
   "outputs": [],
   "source": [
    "import random\n",
    "import time\n",
    "import numpy as np\n",
    "import gym\n",
    "import tensorflow as tf\n",
    "from collections import deque\n",
    "from IPython.display import clear_output"
   ]
  },
  {
   "cell_type": "code",
   "execution_count": 16,
   "metadata": {},
   "outputs": [],
   "source": [
    "from gym.envs.registration import registry, register\n",
    "\n",
    "try:\n",
    "    register(\n",
    "        id='FrozenLakeNoSlip-v0',\n",
    "        entry_point='gym.envs.toy_text:FrozenLakeEnv',\n",
    "        kwargs={'map_name' : '4x4', 'is_slippery': False},\n",
    "        max_episode_steps=100,\n",
    "        reward_threshold=0.78, # optimum = .8196\n",
    "    )\n",
    "except:\n",
    "    pass"
   ]
  },
  {
   "cell_type": "code",
   "execution_count": 17,
   "metadata": {},
   "outputs": [],
   "source": [
    "class GeneralRandomAgent():\n",
    "    def __init__(self, env):\n",
    "        self.is_discrete = type(env.action_space) == gym.spaces.discrete.Discrete\n",
    "        \n",
    "        if self.is_discrete:\n",
    "            self.action_size = env.action_space.n\n",
    "            print('Action space size: ', self.action_size)\n",
    "        else: \n",
    "            self.action_low = env.action_space.low\n",
    "            self.action_high = env.action_space.high\n",
    "            self.action_shape = env.action_space.shape\n",
    "            print('Action range: ', self.action_low, self.action_high)\n",
    "    \n",
    "    def get_action(self, state):\n",
    "        if self.is_discrete:\n",
    "            action = random.choice(range(self.action_size))\n",
    "        else:\n",
    "            action = np.random.uniform(self.action_low, self.action_high, self.action_shape)\n",
    "        return action"
   ]
  },
  {
   "cell_type": "code",
   "execution_count": 18,
   "metadata": {},
   "outputs": [],
   "source": [
    "class QAgent(GeneralRandomAgent):\n",
    "    def __init__(self, env, discount_rate = 0.97, learning_rate = 0.05, epsilon = 1.0):\n",
    "        super().__init__(env)\n",
    "        \n",
    "        self.epsilon = epsilon\n",
    "        self.discount_rate = discount_rate\n",
    "        self.learning_rate = learning_rate\n",
    "        \n",
    "        self.state_size = env.observation_space.n\n",
    "        print('State size: ', self.state_size)\n",
    "        self.build_model()\n",
    "    \n",
    "    def build_model(self):\n",
    "        self.q_table = 1e-4*np.random.random([self.state_size, self.action_size])\n",
    "        #self.q_table = np.zeros([self.state_size, self.action_size])\n",
    "        print(self.q_table)\n",
    "        \n",
    "    def get_action(self, state):\n",
    "        q_state = self.q_table[state]\n",
    "        policy_action = np.argmax(q_state)\n",
    "        random_action = super().get_action(state)\n",
    "        \n",
    "        action = policy_action if random.random() > self.epsilon else random_action\n",
    "        #print(q_state)\n",
    "        #print(self.q_table)\n",
    "        return action\n",
    "    \n",
    "    def train(self, experience):\n",
    "        state, action, next_state, reward, done = experience\n",
    "        \n",
    "        q_next = self.q_table[next_state] if not(done) else np.zeros([self.action_size]) # checks if state is terminal\n",
    "        q_target = reward + self.discount_rate*np.max(q_next)\n",
    "        \n",
    "        q_update = q_target - self.q_table[state, action]\n",
    "        self.q_table[state, action] += self.learning_rate*q_update\n",
    "        \n",
    "        if done:\n",
    "            self.epsilon *= 0.99 # Exponential decay"
   ]
  },
  {
   "cell_type": "code",
   "execution_count": 19,
   "metadata": {},
   "outputs": [],
   "source": [
    "class QNAgent(GeneralRandomAgent):\n",
    "    def __init__(self, env, discount_rate = 0.97, learning_rate = 0.01, epsilon = 1.0):\n",
    "        super().__init__(env)\n",
    "        \n",
    "        self.epsilon = epsilon\n",
    "        self.discount_rate = discount_rate\n",
    "        self.learning_rate = learning_rate\n",
    "        \n",
    "        self.state_size = env.observation_space.n\n",
    "        print('State size: ', self.state_size)\n",
    "        self.build_model()\n",
    "        \n",
    "        self.sess = tf.compat.v1.Session()\n",
    "        self.sess.run(tf.compat.v1.global_variables_initializer())\n",
    "        \n",
    "    def __del__(self):\n",
    "        self.sess.close()\n",
    "    \n",
    "    def build_model(self):\n",
    "        tf.compat.v1.reset_default_graph()\n",
    "        tf.compat.v1.disable_eager_execution()\n",
    "        self.state_in = tf.compat.v1.placeholder(tf.int32, shape=[1])\n",
    "        self.action_in = tf.compat.v1.placeholder(tf.int32, shape=[1])\n",
    "        self.target_in = tf.compat.v1.placeholder(tf.float32, shape=[1])\n",
    "        \n",
    "        self.state = tf.one_hot(self.state_in, depth=self.state_size)\n",
    "        self.action = tf.one_hot(self.action_in, depth=self.action_size)\n",
    "        \n",
    "        self.q_state = tf.compat.v1.layers.dense(self.state, units=self.action_size, name='q_table')\n",
    "        self.q_action = tf.reduce_sum(tf.multiply(self.q_state, self.action), axis=1)\n",
    "        \n",
    "        self.loss = tf.reduce_sum(tf.square(self.target_in - self.q_action))\n",
    "        self.optimizer = tf.compat.v1.train.AdamOptimizer(self.learning_rate).minimize(self.loss)\n",
    "        \n",
    "    def get_action(self, state):\n",
    "        q_state = self.sess.run(self.q_state, feed_dict = {self.state_in: [state]})\n",
    "        policy_action = np.argmax(q_state)\n",
    "        random_action = super().get_action(state)\n",
    "        action = policy_action if random.random() > self.epsilon else random_action\n",
    "        return action\n",
    "    \n",
    "    def train(self, experience):\n",
    "        state, action, next_state, reward, done = ([exp] for exp in experience)\n",
    "        \n",
    "        q_next = self.sess.run(self.q_state, feed_dict = {self.state_in: next_state})\n",
    "        q_next[done] = np.zeros([self.action_size])\n",
    "        q_target = reward + self.discount_rate*np.max(q_next)\n",
    "        \n",
    "        feed = {self.state_in: state, self.action_in: action, self.target_in: q_target}\n",
    "        self.sess.run(self.optimizer, feed_dict = feed)\n",
    "        \n",
    "        if experience[4]: # done is at index 4 of the experience\n",
    "            self.epsilon *= 0.99\n"
   ]
  },
  {
   "cell_type": "code",
   "execution_count": 32,
   "metadata": {},
   "outputs": [],
   "source": [
    "class QNExperienceReplayAgent(GeneralRandomAgent):\n",
    "    def __init__(self, env, discount_rate = 0.97, learning_rate = 0.001, epsilon = 1.0):\n",
    "        super().__init__(env)\n",
    "        \n",
    "        self.epsilon = epsilon\n",
    "        self.discount_rate = discount_rate\n",
    "        self.learning_rate = learning_rate\n",
    "        \n",
    "        self.state_size = env.observation_space.n\n",
    "        print('State size: ', self.state_size)\n",
    "        self.build_model()\n",
    "        \n",
    "        self.sess = tf.compat.v1.Session()\n",
    "        self.sess.run(tf.compat.v1.global_variables_initializer())\n",
    "        self.replay_buffer = deque(maxlen=1000)\n",
    "        \n",
    "    def __del__(self):\n",
    "        self.sess.close()\n",
    "    \n",
    "    def build_model(self):\n",
    "        tf.compat.v1.reset_default_graph()\n",
    "        tf.compat.v1.disable_eager_execution()\n",
    "        self.state_in = tf.compat.v1.placeholder(tf.int32, shape=[None])\n",
    "        self.action_in = tf.compat.v1.placeholder(tf.int32, shape=[None])\n",
    "        self.target_in = tf.compat.v1.placeholder(tf.float32, shape=[None])\n",
    "        \n",
    "        self.state = tf.one_hot(self.state_in, depth=self.state_size)\n",
    "        self.action = tf.one_hot(self.action_in, depth=self.action_size)\n",
    "        \n",
    "        self.q_state = tf.compat.v1.layers.dense(self.state, units=self.action_size, name='q_table')\n",
    "        self.q_action = tf.reduce_sum(tf.multiply(self.q_state, self.action), axis=1)\n",
    "        \n",
    "        self.loss = tf.reduce_sum(tf.square(self.target_in - self.q_action))\n",
    "        self.optimizer = tf.compat.v1.train.AdamOptimizer(self.learning_rate).minimize(self.loss)\n",
    "        \n",
    "    def get_action(self, state):\n",
    "        q_state = self.sess.run(self.q_state, feed_dict = {self.state_in: [state]})\n",
    "        policy_action = np.argmax(q_state)\n",
    "        random_action = super().get_action(state)\n",
    "        action = policy_action if random.random() > self.epsilon else random_action\n",
    "        return action\n",
    "    \n",
    "    def train(self, experience, batch_size=50):\n",
    "        self.replay_buffer.append(experience)\n",
    "        samples = random.choices(self.replay_buffer, k=batch_size)\n",
    "        state, action, next_state, reward, done = (list(col) for col in zip(experience, *samples))\n",
    "#         state, action, next_state, reward, done = ([exp] for exp in experience)\n",
    "        \n",
    "        q_next = self.sess.run(self.q_state, feed_dict = {self.state_in: next_state})\n",
    "        q_next[done] = np.zeros([self.action_size])\n",
    "        q_target = reward + self.discount_rate*np.max(q_next, axis=1)\n",
    "        \n",
    "        feed = {self.state_in: state, self.action_in: action, self.target_in: q_target}\n",
    "        self.sess.run(self.optimizer, feed_dict = feed)\n",
    "        \n",
    "        if experience[4]: # done is at index 4 of the experience\n",
    "            self.epsilon *= 0.99"
   ]
  },
  {
   "cell_type": "code",
   "execution_count": 21,
   "metadata": {},
   "outputs": [
    {
     "name": "stdout",
     "output_type": "stream",
     "text": [
      "Observation space:  Discrete(16)\n",
      "Action space:  Discrete(4)\n"
     ]
    }
   ],
   "source": [
    "# http://gym.openai.com/envs/CartPole-v1/\n",
    "env = gym.make('FrozenLakeNoSlip-v0')\n",
    "#env = gym.make('FrozenLake-v0')\n",
    "print('Observation space: ', env.observation_space)\n",
    "print('Action space: ', env.action_space)"
   ]
  },
  {
   "cell_type": "code",
   "execution_count": 23,
   "metadata": {},
   "outputs": [
    {
     "name": "stdout",
     "output_type": "stream",
     "text": [
      "Episode finished after 4 timesteps\n"
     ]
    }
   ],
   "source": [
    "# Random agent\n",
    "number_of_episodes = 15\n",
    "number_of_steps = 200\n",
    "state = env.reset()\n",
    "agent = GeneralRandomAgent(env)\n",
    "for episode in range(number_of_episodes):\n",
    "    state = env.reset()\n",
    "    for t in range(number_of_steps):\n",
    "        action = agent.get_action(state)\n",
    "        state, reward, done, info = env.step(action)\n",
    "        print('state: ', state, 'action: ', action)\n",
    "        env.render()\n",
    "        time.sleep(0.5)\n",
    "        clear_output(wait=True)\n",
    "        if done:\n",
    "            print(\"Episode finished after {} timesteps\".format(t+1))\n",
    "            break\n",
    "env.close()"
   ]
  },
  {
   "cell_type": "code",
   "execution_count": 28,
   "metadata": {},
   "outputs": [
    {
     "name": "stdout",
     "output_type": "stream",
     "text": [
      "Action space size:  4\n",
      "State size:  16\n",
      "[[5.64941237e-05 4.65033434e-05 1.58906307e-06 4.53422743e-06]\n",
      " [2.20176581e-05 6.40402591e-05 5.98423484e-06 9.64008630e-05]\n",
      " [2.79459850e-05 1.23997290e-05 8.04509285e-06 3.35024318e-06]\n",
      " [9.85673341e-05 7.25849662e-05 9.10091126e-05 6.05474899e-05]\n",
      " [3.11890767e-05 7.10356968e-05 4.31764141e-05 8.04062483e-05]\n",
      " [1.56603470e-05 4.82322323e-05 8.67871013e-05 2.95462762e-05]\n",
      " [8.56626690e-05 2.80938766e-05 8.32629503e-05 9.43663390e-05]\n",
      " [4.53163544e-05 9.53091676e-06 9.17560645e-05 9.67503059e-05]\n",
      " [8.28902561e-05 4.56778884e-05 7.00796043e-05 4.53161856e-05]\n",
      " [7.63152001e-05 6.14328332e-05 5.69231307e-05 1.24464660e-05]\n",
      " [5.06427716e-05 8.23982362e-05 2.26098005e-05 3.52182310e-05]\n",
      " [9.42448217e-05 1.34769063e-05 1.18518001e-05 6.09191467e-06]\n",
      " [4.44169290e-05 2.57198513e-06 7.88524738e-05 7.42287215e-05]\n",
      " [8.07016629e-05 2.42310607e-05 5.94629050e-05 3.44006004e-05]\n",
      " [9.96754390e-05 3.45108024e-05 9.48479896e-05 5.18222253e-05]\n",
      " [7.80842520e-05 8.23564417e-05 1.99902627e-05 7.65974517e-05]]\n"
     ]
    }
   ],
   "source": [
    "# QAgent\n",
    "number_of_episodes = 100\n",
    "number_of_steps = 15\n",
    "total_reward = 0\n",
    "observation = env.reset()\n",
    "qagent = QAgent(env)"
   ]
  },
  {
   "cell_type": "code",
   "execution_count": 26,
   "metadata": {},
   "outputs": [
    {
     "name": "stdout",
     "output_type": "stream",
     "text": [
      "state:  15 action:  2\n",
      "[[9.53777164e-02 8.58734026e-01 3.46034740e-03 5.64445712e-02]\n",
      " [9.23905748e-02 4.12237553e-05 6.71154408e-05 3.38308406e-05]\n",
      " [6.73823518e-05 6.73480571e-05 6.57841259e-05 6.32303905e-05]\n",
      " [8.31758889e-05 5.85122946e-05 6.71246538e-05 3.34661427e-05]\n",
      " [1.03162114e-01 8.85292810e-01 3.11012947e-06 1.33884327e-01]\n",
      " [4.84187374e-05 7.11973232e-06 6.27477539e-05 9.25268982e-05]\n",
      " [3.33427051e-05 6.33566391e-05 5.67264539e-05 6.73803147e-05]\n",
      " [7.87416657e-06 5.96217051e-05 2.69546775e-05 8.22648508e-05]\n",
      " [1.38719012e-01 2.74008606e-07 9.12673000e-01 1.20558593e-01]\n",
      " [8.12081463e-02 9.40900000e-01 5.84895280e-02 2.60858390e-05]\n",
      " [5.68370508e-05 3.70386151e-01 2.36217943e-05 8.20899098e-05]\n",
      " [3.25309362e-05 5.00361626e-05 1.30302330e-06 4.06842194e-05]\n",
      " [1.36844226e-05 7.61741396e-05 7.60349590e-05 1.70238594e-05]\n",
      " [6.71526611e-06 2.37355706e-01 9.70000000e-01 6.82970998e-02]\n",
      " [1.39506563e-01 3.69401455e-01 1.00000000e+00 2.40255498e-02]\n",
      " [6.39090137e-05 1.58260145e-05 1.92000207e-05 4.35811699e-05]]\n",
      "Episode: 499, Step: 5, Total Reward: 823.0, Epsilon: 6.199085010414712e-05\n",
      "  (Right)\n",
      "SFFF\n",
      "FHFH\n",
      "FFFH\n",
      "HFF\u001b[41mG\u001b[0m\n"
     ]
    }
   ],
   "source": [
    "for episode in range(number_of_episodes):\n",
    "    state = env.reset()\n",
    "    for step in range(number_of_steps):\n",
    "        action = qagent.get_action(state)\n",
    "        next_state, reward, done, info = env.step(action)\n",
    "        qagent.train((state, action, next_state, reward, done))\n",
    "        state = next_state\n",
    "        total_reward += reward\n",
    "        print('state: ', state, 'action: ', action)\n",
    "        print(qagent.q_table)\n",
    "        print(\"Episode: {}, Step: {}, Total Reward: {}, Epsilon: {}\".format(episode, step, total_reward, qagent.epsilon))\n",
    "        time.sleep(0.01)\n",
    "        env.render()\n",
    "        if done:\n",
    "            #print(\"Episode finished after {} timesteps\".format(step+1))\n",
    "            break\n",
    "        \n",
    "        clear_output(wait=True)\n",
    "env.close()"
   ]
  },
  {
   "cell_type": "code",
   "execution_count": 29,
   "metadata": {
    "scrolled": true
   },
   "outputs": [
    {
     "name": "stdout",
     "output_type": "stream",
     "text": [
      "Action space size:  4\n",
      "State size:  16\n"
     ]
    }
   ],
   "source": [
    "# QNAgent\n",
    "number_of_episodes = 500\n",
    "number_of_steps = 15\n",
    "total_reward = 0\n",
    "observation = env.reset()\n",
    "qnagent = QNAgent(env)"
   ]
  },
  {
   "cell_type": "code",
   "execution_count": 31,
   "metadata": {},
   "outputs": [
    {
     "name": "stdout",
     "output_type": "stream",
     "text": [
      "state:  15 action:  2\n",
      "Episode: 499, Step: 5, Total Reward: 845.0, Epsilon: 5.439827419996685e-05\n",
      "[[-0.11353138  0.3026645  -0.08388886  0.00874332]\n",
      " [ 0.19759448 -0.61010665  0.01294092 -0.01451255]\n",
      " [ 0.02953254  0.14976345 -0.02624523  0.1244484 ]\n",
      " [ 0.00986244 -0.45339635 -0.29157433 -0.04377493]\n",
      " [-0.07174112  0.3744143  -0.60003525  0.05704692]\n",
      " [ 0.12638491 -0.08479851 -0.1730896   0.27620023]\n",
      " [-0.4763186  -0.2942671  -0.62303746  0.00105364]\n",
      " [-0.1430591  -0.30655393 -0.3905269   0.47696114]\n",
      " [ 0.15187502 -0.6287654   0.4051334   0.1601466 ]\n",
      " [ 0.17623964  0.3326224   0.26564372 -0.67298615]\n",
      " [ 0.19514348  0.25047514 -0.17080365  0.0487534 ]\n",
      " [ 0.38052273 -0.11120182 -0.21112823 -0.11281523]\n",
      " [-0.05955234  0.53874755 -0.45393848 -0.1798228 ]\n",
      " [-0.683561    0.19446652  0.39479434  0.23349886]\n",
      " [ 0.2114212   0.07370419  0.4312942   0.24862446]\n",
      " [-0.2798764   0.23501915 -0.5188889  -0.06278816]]\n",
      "  (Right)\n",
      "SFFF\n",
      "FHFH\n",
      "FFFH\n",
      "HFF\u001b[41mG\u001b[0m\n"
     ]
    }
   ],
   "source": [
    "for episode in range(number_of_episodes):\n",
    "    state = env.reset()\n",
    "    for step in range(number_of_steps):\n",
    "        action = qnagent.get_action(state)\n",
    "        next_state, reward, done, info = env.step(action)\n",
    "        qnagent.train((state, action, next_state, reward, done))\n",
    "        state = next_state\n",
    "        total_reward += reward\n",
    "        \n",
    "        \n",
    "        with tf.compat.v1.variable_scope('q_table', reuse=True):\n",
    "            weights = qnagent.sess.run(tf.compat.v1.get_variable('kernel'))\n",
    "            clear_output(wait=True)\n",
    "            print('state: ', state, 'action: ', action)\n",
    "            print(\"Episode: {}, Step: {}, Total Reward: {}, Epsilon: {}\".format(episode, step, total_reward, qnagent.epsilon))\n",
    "            print(weights)\n",
    "        env.render()\n",
    "        if done:\n",
    "            #print(\"Episode finished after {} timesteps\".format(step+1))\n",
    "            break\n",
    "        \n",
    "        #time.sleep(0.05)\n",
    "env.close()"
   ]
  },
  {
   "cell_type": "code",
   "execution_count": 33,
   "metadata": {
    "scrolled": true
   },
   "outputs": [
    {
     "name": "stdout",
     "output_type": "stream",
     "text": [
      "Action space size:  4\n",
      "State size:  16\n"
     ]
    }
   ],
   "source": [
    "# QNExperienceReplayAgent\n",
    "number_of_episodes = 500\n",
    "number_of_steps = 15\n",
    "total_reward = 0\n",
    "observation = env.reset()\n",
    "qneragent = QNExperienceReplayAgent(env)"
   ]
  },
  {
   "cell_type": "code",
   "execution_count": 35,
   "metadata": {
    "scrolled": true
   },
   "outputs": [
    {
     "name": "stdout",
     "output_type": "stream",
     "text": [
      "state:  15 action:  2\n",
      "Episode: 499, Step: 5, Total Reward: 779.0, Epsilon: 8.050308666708495e-05\n",
      "[[ 0.20255187  0.25056434  0.22962482  0.10157435]\n",
      " [ 0.20788176 -0.60815537  0.25618353  0.12405635]\n",
      " [ 0.2192079   0.30450344  0.10467924  0.05697221]\n",
      " [ 0.1729581  -0.60592556  0.07862183 -0.01653947]\n",
      " [ 0.22193362  0.27712327 -0.62254286  0.09341645]\n",
      " [-0.32965118  0.1217761   0.01705599 -0.5333879 ]\n",
      " [-0.5849208   0.3327304  -0.41542938  0.14338332]\n",
      " [-0.24792641 -0.2691514  -0.34157532  0.47875667]\n",
      " [ 0.21437193 -0.6081718   0.28356367  0.14349379]\n",
      " [ 0.24117659  0.3133603   0.3117907  -0.7371238 ]\n",
      " [ 0.2825509   0.36183044 -0.6250388   0.17336299]\n",
      " [ 0.21073818 -0.43384254  0.19345558  0.18745261]\n",
      " [ 0.4930879  -0.10579994 -0.32171196 -0.53229254]\n",
      " [-0.5683287   0.23685841  0.33868006  0.17987706]\n",
      " [ 0.30814162  0.36115944  0.37089068  0.1964099 ]\n",
      " [-0.06892592  0.02590877  0.04803693  0.24937773]]\n",
      "  (Right)\n",
      "SFFF\n",
      "FHFH\n",
      "FFFH\n",
      "HFF\u001b[41mG\u001b[0m\n"
     ]
    }
   ],
   "source": [
    "for episode in range(number_of_episodes):\n",
    "    state = env.reset()\n",
    "    for step in range(number_of_steps):\n",
    "        action = qneragent.get_action(state)\n",
    "        next_state, reward, done, info = env.step(action)\n",
    "        qneragent.train((state, action, next_state, reward, done))\n",
    "        state = next_state\n",
    "        total_reward += reward\n",
    "        \n",
    "        with tf.compat.v1.variable_scope('q_table', reuse=True):\n",
    "            weights = qneragent.sess.run(tf.compat.v1.get_variable('kernel'))\n",
    "            clear_output(wait=True)\n",
    "            print('state: ', state, 'action: ', action)\n",
    "            print(\"Episode: {}, Step: {}, Total Reward: {}, Epsilon: {}\".format(episode, step, total_reward, qneragent.epsilon))\n",
    "            print(weights)\n",
    "        env.render()\n",
    "        if done:\n",
    "            #print(\"Episode finished after {} timesteps\".format(step+1))\n",
    "            break\n",
    "        \n",
    "        #time.sleep(0.05)\n",
    "env.close()"
   ]
  },
  {
   "cell_type": "code",
   "execution_count": null,
   "metadata": {},
   "outputs": [],
   "source": []
  }
 ],
 "metadata": {
  "kernelspec": {
   "display_name": "Python 3",
   "language": "python",
   "name": "python3"
  },
  "language_info": {
   "codemirror_mode": {
    "name": "ipython",
    "version": 3
   },
   "file_extension": ".py",
   "mimetype": "text/x-python",
   "name": "python",
   "nbconvert_exporter": "python",
   "pygments_lexer": "ipython3",
   "version": "3.7.9"
  }
 },
 "nbformat": 4,
 "nbformat_minor": 2
}
